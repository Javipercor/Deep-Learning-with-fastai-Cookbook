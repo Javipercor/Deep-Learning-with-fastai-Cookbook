{
 "cells": [
  {
   "cell_type": "markdown",
   "metadata": {},
   "source": [
    "# Assessing the suitability of a dataset for deep learning\n",
    "This notebook shows two examples of applying a fastai deep learning model to a tabular dataset. The goal of the notebook is to show a contrast between a unsuccessful application and a successful application."
   ]
  },
  {
   "cell_type": "code",
   "execution_count": null,
   "metadata": {},
   "outputs": [],
   "source": [
    "# imports for notebook boilerplate\n",
    "!pip install -Uqq fastbook\n",
    "import fastbook\n",
    "from fastbook import *\n",
    "from fastai.tabular.all import *"
   ]
  },
  {
   "cell_type": "code",
   "execution_count": 2,
   "metadata": {},
   "outputs": [],
   "source": [
    "# set up the notebook for fast.ai\n",
    "fastbook.setup_book()"
   ]
  },
  {
   "cell_type": "code",
   "execution_count": 3,
   "metadata": {},
   "outputs": [
    {
     "name": "stdout",
     "output_type": "stream",
     "text": [
      "Collecting pandas_datareader\n",
      "  Downloading pandas_datareader-0.9.0-py3-none-any.whl (107 kB)\n",
      "\u001b[K     |████████████████████████████████| 107 kB 21.0 MB/s eta 0:00:01\n",
      "\u001b[?25hRequirement already satisfied: pandas>=0.23 in /opt/conda/envs/fastai/lib/python3.8/site-packages (from pandas_datareader) (1.1.4)\n",
      "Collecting lxml\n",
      "  Downloading lxml-4.6.2-cp38-cp38-manylinux1_x86_64.whl (5.4 MB)\n",
      "\u001b[K     |████████████████████████████████| 5.4 MB 38.3 MB/s eta 0:00:01\n",
      "\u001b[?25hRequirement already satisfied: requests>=2.19.0 in /opt/conda/envs/fastai/lib/python3.8/site-packages (from pandas_datareader) (2.25.0)\n",
      "Requirement already satisfied: python-dateutil>=2.7.3 in /opt/conda/envs/fastai/lib/python3.8/site-packages (from pandas>=0.23->pandas_datareader) (2.8.1)\n",
      "Requirement already satisfied: pytz>=2017.2 in /opt/conda/envs/fastai/lib/python3.8/site-packages (from pandas>=0.23->pandas_datareader) (2020.4)\n",
      "Requirement already satisfied: numpy>=1.15.4 in /opt/conda/envs/fastai/lib/python3.8/site-packages (from pandas>=0.23->pandas_datareader) (1.19.4)\n",
      "Requirement already satisfied: urllib3<1.27,>=1.21.1 in /opt/conda/envs/fastai/lib/python3.8/site-packages (from requests>=2.19.0->pandas_datareader) (1.25.11)\n",
      "Requirement already satisfied: idna<3,>=2.5 in /opt/conda/envs/fastai/lib/python3.8/site-packages (from requests>=2.19.0->pandas_datareader) (2.10)\n",
      "Requirement already satisfied: chardet<4,>=3.0.2 in /opt/conda/envs/fastai/lib/python3.8/site-packages (from requests>=2.19.0->pandas_datareader) (3.0.4)\n",
      "Requirement already satisfied: certifi>=2017.4.17 in /opt/conda/envs/fastai/lib/python3.8/site-packages (from requests>=2.19.0->pandas_datareader) (2020.11.8)\n",
      "Requirement already satisfied: six>=1.5 in /opt/conda/envs/fastai/lib/python3.8/site-packages (from python-dateutil>=2.7.3->pandas>=0.23->pandas_datareader) (1.15.0)\n",
      "Installing collected packages: lxml, pandas-datareader\n",
      "Successfully installed lxml-4.6.2 pandas-datareader-0.9.0\n"
     ]
    }
   ],
   "source": [
    "# imports specifically needed for this notebook\n",
    "! pip install pandas_datareader\n",
    "import numpy as np\n",
    "import pandas as pd\n",
    "import os\n",
    "import yaml\n",
    "# For reading stock data from yahoo\n",
    "from pandas_datareader.data import DataReader\n",
    "\n",
    "# For time stamps\n",
    "from datetime import datetime\n"
   ]
  },
  {
   "cell_type": "markdown",
   "metadata": {},
   "source": [
    "# Ingest the dataset\n",
    "Uset the DataReader API to get a stock price dataset for a stock."
   ]
  },
  {
   "cell_type": "code",
   "execution_count": 4,
   "metadata": {},
   "outputs": [],
   "source": [
    "# Set up start and end times for the data load - a year previous\n",
    "end_time = datetime.now()\n",
    "start_time = datetime(end_time.year - 1, end_time.month, end_time.day)\n"
   ]
  },
  {
   "cell_type": "code",
   "execution_count": 5,
   "metadata": {},
   "outputs": [
    {
     "data": {
      "text/html": [
       "<div>\n",
       "<style scoped>\n",
       "    .dataframe tbody tr th:only-of-type {\n",
       "        vertical-align: middle;\n",
       "    }\n",
       "\n",
       "    .dataframe tbody tr th {\n",
       "        vertical-align: top;\n",
       "    }\n",
       "\n",
       "    .dataframe thead th {\n",
       "        text-align: right;\n",
       "    }\n",
       "</style>\n",
       "<table border=\"1\" class=\"dataframe\">\n",
       "  <thead>\n",
       "    <tr style=\"text-align: right;\">\n",
       "      <th></th>\n",
       "      <th>High</th>\n",
       "      <th>Low</th>\n",
       "      <th>Open</th>\n",
       "      <th>Close</th>\n",
       "      <th>Volume</th>\n",
       "      <th>Adj Close</th>\n",
       "    </tr>\n",
       "    <tr>\n",
       "      <th>Date</th>\n",
       "      <th></th>\n",
       "      <th></th>\n",
       "      <th></th>\n",
       "      <th></th>\n",
       "      <th></th>\n",
       "      <th></th>\n",
       "    </tr>\n",
       "  </thead>\n",
       "  <tbody>\n",
       "    <tr>\n",
       "      <th>2020-02-06</th>\n",
       "      <td>50.099998</td>\n",
       "      <td>49.500000</td>\n",
       "      <td>49.689999</td>\n",
       "      <td>50.029999</td>\n",
       "      <td>2531000.0</td>\n",
       "      <td>48.642010</td>\n",
       "    </tr>\n",
       "    <tr>\n",
       "      <th>2020-02-07</th>\n",
       "      <td>49.919998</td>\n",
       "      <td>49.369999</td>\n",
       "      <td>49.889999</td>\n",
       "      <td>49.400002</td>\n",
       "      <td>1995500.0</td>\n",
       "      <td>48.029491</td>\n",
       "    </tr>\n",
       "    <tr>\n",
       "      <th>2020-02-10</th>\n",
       "      <td>49.939999</td>\n",
       "      <td>49.349998</td>\n",
       "      <td>49.490002</td>\n",
       "      <td>49.910000</td>\n",
       "      <td>1983200.0</td>\n",
       "      <td>48.525341</td>\n",
       "    </tr>\n",
       "    <tr>\n",
       "      <th>2020-02-11</th>\n",
       "      <td>49.980000</td>\n",
       "      <td>49.540001</td>\n",
       "      <td>49.939999</td>\n",
       "      <td>49.779999</td>\n",
       "      <td>1848800.0</td>\n",
       "      <td>48.398945</td>\n",
       "    </tr>\n",
       "    <tr>\n",
       "      <th>2020-02-12</th>\n",
       "      <td>49.799999</td>\n",
       "      <td>49.360001</td>\n",
       "      <td>49.750000</td>\n",
       "      <td>49.580002</td>\n",
       "      <td>2483000.0</td>\n",
       "      <td>48.204498</td>\n",
       "    </tr>\n",
       "  </tbody>\n",
       "</table>\n",
       "</div>"
      ],
      "text/plain": [
       "                 High        Low       Open      Close     Volume  Adj Close\n",
       "Date                                                                        \n",
       "2020-02-06  50.099998  49.500000  49.689999  50.029999  2531000.0  48.642010\n",
       "2020-02-07  49.919998  49.369999  49.889999  49.400002  1995500.0  48.029491\n",
       "2020-02-10  49.939999  49.349998  49.490002  49.910000  1983200.0  48.525341\n",
       "2020-02-11  49.980000  49.540001  49.939999  49.779999  1848800.0  48.398945\n",
       "2020-02-12  49.799999  49.360001  49.750000  49.580002  2483000.0  48.204498"
      ]
     },
     "execution_count": 5,
     "metadata": {},
     "output_type": "execute_result"
    }
   ],
   "source": [
    "# Use the DataReader API to get the stock prices for AZN (AstraZeneca) for the preceding year\n",
    "df = DataReader('AZN', 'yahoo', start_time, end_time)\n",
    "df.head()"
   ]
  },
  {
   "cell_type": "code",
   "execution_count": 6,
   "metadata": {},
   "outputs": [
    {
     "data": {
      "text/plain": [
       "(253, 6)"
      ]
     },
     "execution_count": 6,
     "metadata": {},
     "output_type": "execute_result"
    }
   ],
   "source": [
    "df.shape"
   ]
  },
  {
   "cell_type": "code",
   "execution_count": 7,
   "metadata": {},
   "outputs": [],
   "source": [
    "# check for missing values\n",
    "count = df.isna().sum()\n",
    "df_missing = (pd.concat([count.rename('missing_count'),\n",
    "                     count.div(len(df))\n",
    "                          .rename('missing_ratio')],axis = 1)\n",
    "             .loc[count.ne(0)])"
   ]
  },
  {
   "cell_type": "code",
   "execution_count": 8,
   "metadata": {},
   "outputs": [
    {
     "data": {
      "text/html": [
       "<div>\n",
       "<style scoped>\n",
       "    .dataframe tbody tr th:only-of-type {\n",
       "        vertical-align: middle;\n",
       "    }\n",
       "\n",
       "    .dataframe tbody tr th {\n",
       "        vertical-align: top;\n",
       "    }\n",
       "\n",
       "    .dataframe thead th {\n",
       "        text-align: right;\n",
       "    }\n",
       "</style>\n",
       "<table border=\"1\" class=\"dataframe\">\n",
       "  <thead>\n",
       "    <tr style=\"text-align: right;\">\n",
       "      <th></th>\n",
       "      <th>missing_count</th>\n",
       "      <th>missing_ratio</th>\n",
       "    </tr>\n",
       "  </thead>\n",
       "  <tbody>\n",
       "  </tbody>\n",
       "</table>\n",
       "</div>"
      ],
      "text/plain": [
       "Empty DataFrame\n",
       "Columns: [missing_count, missing_ratio]\n",
       "Index: []"
      ]
     },
     "execution_count": 8,
     "metadata": {},
     "output_type": "execute_result"
    }
   ],
   "source": [
    "# check for missing values\n",
    "df_missing"
   ]
  },
  {
   "cell_type": "markdown",
   "metadata": {},
   "source": [
    "# Build and train the first model\n",
    "For the fist model, use fastai defaults for everything."
   ]
  },
  {
   "cell_type": "code",
   "execution_count": 9,
   "metadata": {},
   "outputs": [
    {
     "name": "stdout",
     "output_type": "stream",
     "text": [
      "continuous columns are:  ['High', 'Low', 'Open', 'Volume', 'Adj Close']\n",
      "categorical columns are:  []\n"
     ]
    }
   ],
   "source": [
    "dep_var = 'Close'\n",
    "# define columns that are continuous / categorical\n",
    "cont,cat = cont_cat_split(df, 1, dep_var=dep_var) \n",
    "print(\"continuous columns are: \",cont)\n",
    "print(\"categorical columns are: \",cat)"
   ]
  },
  {
   "cell_type": "code",
   "execution_count": 10,
   "metadata": {},
   "outputs": [],
   "source": [
    "procs = [Normalize]\n",
    "dls = TabularDataLoaders.from_df(df,procs= procs, \n",
    "                                 cat_names= cat, cont_names = cont, \n",
    "                                 y_names = dep_var, \n",
    "                                 valid_idx=list(range((df.shape[0]-50),df.shape[0])), bs=64)"
   ]
  },
  {
   "cell_type": "code",
   "execution_count": 11,
   "metadata": {},
   "outputs": [
    {
     "data": {
      "text/html": [
       "<table border=\"1\" class=\"dataframe\">\n",
       "  <thead>\n",
       "    <tr style=\"text-align: right;\">\n",
       "      <th></th>\n",
       "      <th>High</th>\n",
       "      <th>Low</th>\n",
       "      <th>Open</th>\n",
       "      <th>Volume</th>\n",
       "      <th>Adj Close</th>\n",
       "      <th>Close</th>\n",
       "    </tr>\n",
       "  </thead>\n",
       "  <tbody>\n",
       "    <tr>\n",
       "      <th>0</th>\n",
       "      <td>54.299999</td>\n",
       "      <td>53.520001</td>\n",
       "      <td>54.000000</td>\n",
       "      <td>8.341400e+06</td>\n",
       "      <td>53.570000</td>\n",
       "      <td>53.570000</td>\n",
       "    </tr>\n",
       "    <tr>\n",
       "      <th>1</th>\n",
       "      <td>53.090000</td>\n",
       "      <td>52.299999</td>\n",
       "      <td>52.340000</td>\n",
       "      <td>1.166090e+07</td>\n",
       "      <td>52.599998</td>\n",
       "      <td>52.599998</td>\n",
       "    </tr>\n",
       "    <tr>\n",
       "      <th>2</th>\n",
       "      <td>52.770000</td>\n",
       "      <td>51.439999</td>\n",
       "      <td>51.580002</td>\n",
       "      <td>1.478320e+07</td>\n",
       "      <td>52.610001</td>\n",
       "      <td>52.610001</td>\n",
       "    </tr>\n",
       "    <tr>\n",
       "      <th>3</th>\n",
       "      <td>53.419998</td>\n",
       "      <td>52.529999</td>\n",
       "      <td>53.299999</td>\n",
       "      <td>1.472520e+07</td>\n",
       "      <td>52.939999</td>\n",
       "      <td>52.939999</td>\n",
       "    </tr>\n",
       "    <tr>\n",
       "      <th>4</th>\n",
       "      <td>53.360001</td>\n",
       "      <td>52.599999</td>\n",
       "      <td>53.060001</td>\n",
       "      <td>1.330820e+07</td>\n",
       "      <td>52.980000</td>\n",
       "      <td>52.980000</td>\n",
       "    </tr>\n",
       "    <tr>\n",
       "      <th>5</th>\n",
       "      <td>53.599998</td>\n",
       "      <td>52.830002</td>\n",
       "      <td>52.889999</td>\n",
       "      <td>4.953700e+06</td>\n",
       "      <td>53.389999</td>\n",
       "      <td>53.389999</td>\n",
       "    </tr>\n",
       "    <tr>\n",
       "      <th>6</th>\n",
       "      <td>52.959999</td>\n",
       "      <td>52.250000</td>\n",
       "      <td>52.869999</td>\n",
       "      <td>7.917100e+06</td>\n",
       "      <td>52.779999</td>\n",
       "      <td>52.779999</td>\n",
       "    </tr>\n",
       "    <tr>\n",
       "      <th>7</th>\n",
       "      <td>54.139999</td>\n",
       "      <td>53.419998</td>\n",
       "      <td>53.549999</td>\n",
       "      <td>4.685400e+06</td>\n",
       "      <td>53.740002</td>\n",
       "      <td>53.740002</td>\n",
       "    </tr>\n",
       "    <tr>\n",
       "      <th>8</th>\n",
       "      <td>54.490002</td>\n",
       "      <td>53.830002</td>\n",
       "      <td>54.380001</td>\n",
       "      <td>6.582900e+06</td>\n",
       "      <td>54.259998</td>\n",
       "      <td>54.259998</td>\n",
       "    </tr>\n",
       "    <tr>\n",
       "      <th>9</th>\n",
       "      <td>55.060001</td>\n",
       "      <td>53.619999</td>\n",
       "      <td>53.669998</td>\n",
       "      <td>6.707600e+06</td>\n",
       "      <td>54.720001</td>\n",
       "      <td>54.720001</td>\n",
       "    </tr>\n",
       "  </tbody>\n",
       "</table>"
      ],
      "text/plain": [
       "<IPython.core.display.HTML object>"
      ]
     },
     "metadata": {},
     "output_type": "display_data"
    }
   ],
   "source": [
    "dls.valid.show_batch()"
   ]
  },
  {
   "cell_type": "code",
   "execution_count": 12,
   "metadata": {},
   "outputs": [
    {
     "data": {
      "text/html": [
       "<table border=\"1\" class=\"dataframe\">\n",
       "  <thead>\n",
       "    <tr style=\"text-align: left;\">\n",
       "      <th>epoch</th>\n",
       "      <th>train_loss</th>\n",
       "      <th>valid_loss</th>\n",
       "      <th>accuracy</th>\n",
       "      <th>time</th>\n",
       "    </tr>\n",
       "  </thead>\n",
       "  <tbody>\n",
       "    <tr>\n",
       "      <td>0</td>\n",
       "      <td>2691.044678</td>\n",
       "      <td>2632.110840</td>\n",
       "      <td>0.000000</td>\n",
       "      <td>00:01</td>\n",
       "    </tr>\n",
       "    <tr>\n",
       "      <td>1</td>\n",
       "      <td>2670.847656</td>\n",
       "      <td>2620.096436</td>\n",
       "      <td>0.000000</td>\n",
       "      <td>00:00</td>\n",
       "    </tr>\n",
       "    <tr>\n",
       "      <td>2</td>\n",
       "      <td>2652.538086</td>\n",
       "      <td>2613.420654</td>\n",
       "      <td>0.000000</td>\n",
       "      <td>00:00</td>\n",
       "    </tr>\n",
       "  </tbody>\n",
       "</table>"
      ],
      "text/plain": [
       "<IPython.core.display.HTML object>"
      ]
     },
     "metadata": {},
     "output_type": "display_data"
    }
   ],
   "source": [
    "# define and fit the model\n",
    "learn = tabular_learner(dls, metrics=accuracy)\n",
    "learn.fit_one_cycle(3)"
   ]
  },
  {
   "cell_type": "code",
   "execution_count": 20,
   "metadata": {},
   "outputs": [],
   "source": [
    "# start_time = datetime(end_time.year - 10, end_time.month, end_time.day)"
   ]
  },
  {
   "cell_type": "markdown",
   "metadata": {},
   "source": [
    "# Build and train the second model\n",
    "Revise the model:\n",
    "- define a new target column to act as a categorical dependent variable (replacing the continuous dependent variable from the first model)\n",
    "- explicitly select a subset of columns to train the model rather taking the set provided by default by cont_cat_split()"
   ]
  },
  {
   "cell_type": "code",
   "execution_count": 13,
   "metadata": {},
   "outputs": [],
   "source": [
    "def get_target(value,threshold):\n",
    "    '''return based on whether the input value is greater than or less than input threshold'''\n",
    "    if value <= threshold:\n",
    "        return_value = \"0\"\n",
    "    else:\n",
    "        return_value = \"1\"\n",
    "    return(return_value)\n",
    "    "
   ]
  },
  {
   "cell_type": "code",
   "execution_count": 14,
   "metadata": {},
   "outputs": [],
   "source": [
    "threshold = 50.0\n",
    "df['target'] = df['Close'].apply(lambda x: get_target(x,threshold))"
   ]
  },
  {
   "cell_type": "code",
   "execution_count": 16,
   "metadata": {},
   "outputs": [
    {
     "data": {
      "text/plain": [
       "1    197\n",
       "0     56\n",
       "Name: target, dtype: int64"
      ]
     },
     "execution_count": 16,
     "metadata": {},
     "output_type": "execute_result"
    }
   ],
   "source": [
    "df['target'].value_counts()"
   ]
  },
  {
   "cell_type": "code",
   "execution_count": 17,
   "metadata": {},
   "outputs": [],
   "source": [
    "dep_var = 'target'"
   ]
  },
  {
   "cell_type": "code",
   "execution_count": 20,
   "metadata": {},
   "outputs": [],
   "source": [
    "cont = ['High', 'Low', 'Open', 'Volume']"
   ]
  },
  {
   "cell_type": "code",
   "execution_count": 21,
   "metadata": {},
   "outputs": [
    {
     "data": {
      "text/html": [
       "<table border=\"1\" class=\"dataframe\">\n",
       "  <thead>\n",
       "    <tr style=\"text-align: left;\">\n",
       "      <th>epoch</th>\n",
       "      <th>train_loss</th>\n",
       "      <th>valid_loss</th>\n",
       "      <th>accuracy</th>\n",
       "      <th>time</th>\n",
       "    </tr>\n",
       "  </thead>\n",
       "  <tbody>\n",
       "    <tr>\n",
       "      <td>0</td>\n",
       "      <td>0.779820</td>\n",
       "      <td>0.711409</td>\n",
       "      <td>0.420000</td>\n",
       "      <td>00:00</td>\n",
       "    </tr>\n",
       "    <tr>\n",
       "      <td>1</td>\n",
       "      <td>0.758165</td>\n",
       "      <td>0.707407</td>\n",
       "      <td>0.440000</td>\n",
       "      <td>00:00</td>\n",
       "    </tr>\n",
       "    <tr>\n",
       "      <td>2</td>\n",
       "      <td>0.723788</td>\n",
       "      <td>0.698016</td>\n",
       "      <td>0.560000</td>\n",
       "      <td>00:00</td>\n",
       "    </tr>\n",
       "    <tr>\n",
       "      <td>3</td>\n",
       "      <td>0.674530</td>\n",
       "      <td>0.685289</td>\n",
       "      <td>0.580000</td>\n",
       "      <td>00:00</td>\n",
       "    </tr>\n",
       "    <tr>\n",
       "      <td>4</td>\n",
       "      <td>0.618488</td>\n",
       "      <td>0.671475</td>\n",
       "      <td>0.580000</td>\n",
       "      <td>00:00</td>\n",
       "    </tr>\n",
       "    <tr>\n",
       "      <td>5</td>\n",
       "      <td>0.561982</td>\n",
       "      <td>0.657754</td>\n",
       "      <td>0.580000</td>\n",
       "      <td>00:00</td>\n",
       "    </tr>\n",
       "    <tr>\n",
       "      <td>6</td>\n",
       "      <td>0.510846</td>\n",
       "      <td>0.646289</td>\n",
       "      <td>0.580000</td>\n",
       "      <td>00:00</td>\n",
       "    </tr>\n",
       "    <tr>\n",
       "      <td>7</td>\n",
       "      <td>0.464985</td>\n",
       "      <td>0.633201</td>\n",
       "      <td>0.580000</td>\n",
       "      <td>00:00</td>\n",
       "    </tr>\n",
       "    <tr>\n",
       "      <td>8</td>\n",
       "      <td>0.422107</td>\n",
       "      <td>0.621735</td>\n",
       "      <td>0.640000</td>\n",
       "      <td>00:00</td>\n",
       "    </tr>\n",
       "    <tr>\n",
       "      <td>9</td>\n",
       "      <td>0.383925</td>\n",
       "      <td>0.614889</td>\n",
       "      <td>0.660000</td>\n",
       "      <td>00:00</td>\n",
       "    </tr>\n",
       "    <tr>\n",
       "      <td>10</td>\n",
       "      <td>0.351753</td>\n",
       "      <td>0.595344</td>\n",
       "      <td>0.680000</td>\n",
       "      <td>00:00</td>\n",
       "    </tr>\n",
       "    <tr>\n",
       "      <td>11</td>\n",
       "      <td>0.326501</td>\n",
       "      <td>0.555384</td>\n",
       "      <td>0.700000</td>\n",
       "      <td>00:00</td>\n",
       "    </tr>\n",
       "    <tr>\n",
       "      <td>12</td>\n",
       "      <td>0.302055</td>\n",
       "      <td>0.508059</td>\n",
       "      <td>0.800000</td>\n",
       "      <td>00:00</td>\n",
       "    </tr>\n",
       "    <tr>\n",
       "      <td>13</td>\n",
       "      <td>0.278802</td>\n",
       "      <td>0.468935</td>\n",
       "      <td>0.800000</td>\n",
       "      <td>00:00</td>\n",
       "    </tr>\n",
       "    <tr>\n",
       "      <td>14</td>\n",
       "      <td>0.263657</td>\n",
       "      <td>0.438312</td>\n",
       "      <td>0.840000</td>\n",
       "      <td>00:00</td>\n",
       "    </tr>\n",
       "    <tr>\n",
       "      <td>15</td>\n",
       "      <td>0.243624</td>\n",
       "      <td>0.406380</td>\n",
       "      <td>0.840000</td>\n",
       "      <td>00:00</td>\n",
       "    </tr>\n",
       "    <tr>\n",
       "      <td>16</td>\n",
       "      <td>0.227488</td>\n",
       "      <td>0.390296</td>\n",
       "      <td>0.840000</td>\n",
       "      <td>00:00</td>\n",
       "    </tr>\n",
       "    <tr>\n",
       "      <td>17</td>\n",
       "      <td>0.211777</td>\n",
       "      <td>0.360895</td>\n",
       "      <td>0.860000</td>\n",
       "      <td>00:00</td>\n",
       "    </tr>\n",
       "    <tr>\n",
       "      <td>18</td>\n",
       "      <td>0.198180</td>\n",
       "      <td>0.342688</td>\n",
       "      <td>0.900000</td>\n",
       "      <td>00:00</td>\n",
       "    </tr>\n",
       "    <tr>\n",
       "      <td>19</td>\n",
       "      <td>0.186893</td>\n",
       "      <td>0.333048</td>\n",
       "      <td>0.900000</td>\n",
       "      <td>00:00</td>\n",
       "    </tr>\n",
       "    <tr>\n",
       "      <td>20</td>\n",
       "      <td>0.176437</td>\n",
       "      <td>0.312458</td>\n",
       "      <td>0.900000</td>\n",
       "      <td>00:00</td>\n",
       "    </tr>\n",
       "    <tr>\n",
       "      <td>21</td>\n",
       "      <td>0.166921</td>\n",
       "      <td>0.304666</td>\n",
       "      <td>0.900000</td>\n",
       "      <td>00:00</td>\n",
       "    </tr>\n",
       "    <tr>\n",
       "      <td>22</td>\n",
       "      <td>0.159194</td>\n",
       "      <td>0.291876</td>\n",
       "      <td>0.900000</td>\n",
       "      <td>00:00</td>\n",
       "    </tr>\n",
       "    <tr>\n",
       "      <td>23</td>\n",
       "      <td>0.151070</td>\n",
       "      <td>0.287898</td>\n",
       "      <td>0.880000</td>\n",
       "      <td>00:00</td>\n",
       "    </tr>\n",
       "    <tr>\n",
       "      <td>24</td>\n",
       "      <td>0.143822</td>\n",
       "      <td>0.290090</td>\n",
       "      <td>0.880000</td>\n",
       "      <td>00:00</td>\n",
       "    </tr>\n",
       "    <tr>\n",
       "      <td>25</td>\n",
       "      <td>0.136861</td>\n",
       "      <td>0.287264</td>\n",
       "      <td>0.880000</td>\n",
       "      <td>00:00</td>\n",
       "    </tr>\n",
       "    <tr>\n",
       "      <td>26</td>\n",
       "      <td>0.130277</td>\n",
       "      <td>0.290932</td>\n",
       "      <td>0.860000</td>\n",
       "      <td>00:00</td>\n",
       "    </tr>\n",
       "    <tr>\n",
       "      <td>27</td>\n",
       "      <td>0.125206</td>\n",
       "      <td>0.291928</td>\n",
       "      <td>0.860000</td>\n",
       "      <td>00:00</td>\n",
       "    </tr>\n",
       "    <tr>\n",
       "      <td>28</td>\n",
       "      <td>0.120363</td>\n",
       "      <td>0.293649</td>\n",
       "      <td>0.900000</td>\n",
       "      <td>00:00</td>\n",
       "    </tr>\n",
       "    <tr>\n",
       "      <td>29</td>\n",
       "      <td>0.115166</td>\n",
       "      <td>0.293660</td>\n",
       "      <td>0.860000</td>\n",
       "      <td>00:00</td>\n",
       "    </tr>\n",
       "  </tbody>\n",
       "</table>"
      ],
      "text/plain": [
       "<IPython.core.display.HTML object>"
      ]
     },
     "metadata": {},
     "output_type": "display_data"
    }
   ],
   "source": [
    "dls = TabularDataLoaders.from_df(df,procs= procs, \n",
    "                                 cat_names= cat, cont_names = cont, \n",
    "                                 y_names = dep_var, \n",
    "                                 valid_idx=list(range((df.shape[0]-50),df.shape[0])), bs=64)\n",
    "learn = tabular_learner(dls, metrics=accuracy)\n",
    "learn.fit_one_cycle(30)"
   ]
  },
  {
   "cell_type": "code",
   "execution_count": null,
   "metadata": {},
   "outputs": [],
   "source": []
  }
 ],
 "metadata": {
  "kernelspec": {
   "display_name": "Python 3",
   "language": "python",
   "name": "python3"
  },
  "language_info": {
   "codemirror_mode": {
    "name": "ipython",
    "version": 3
   },
   "file_extension": ".py",
   "mimetype": "text/x-python",
   "name": "python",
   "nbconvert_exporter": "python",
   "pygments_lexer": "ipython3",
   "version": "3.8.6"
  }
 },
 "nbformat": 4,
 "nbformat_minor": 4
}
